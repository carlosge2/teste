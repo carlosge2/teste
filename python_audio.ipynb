{
  "cells": [
    {
      "cell_type": "markdown",
      "metadata": {
        "id": "view-in-github",
        "colab_type": "text"
      },
      "source": [
        "<a href=\"https://colab.research.google.com/github/carlosge2/teste/blob/main/python_audio.ipynb\" target=\"_parent\"><img src=\"https://colab.research.google.com/assets/colab-badge.svg\" alt=\"Open In Colab\"/></a>"
      ]
    },
    {
      "cell_type": "markdown",
      "metadata": {
        "id": "RhvLIL1XRKaj"
      },
      "source": [
        "# Python e Áudio: Exemplos"
      ]
    },
    {
      "cell_type": "markdown",
      "metadata": {
        "id": "A9N8jq23RKaq"
      },
      "source": [
        "Exemplos são do livro _IPython Cookbook_, 2a. ed., disponível em https://github.com/ipython-books/cookbook-2nd/blob/master/chapter11_image/07_synth.md"
      ]
    },
    {
      "cell_type": "markdown",
      "metadata": {
        "id": "SQ12zzA4RKar"
      },
      "source": [
        "Primeiro, o carregamento dos módulos necessários"
      ]
    },
    {
      "cell_type": "code",
      "execution_count": null,
      "metadata": {
        "id": "DaqVWNCsRKas"
      },
      "outputs": [],
      "source": [
        "                                                                                                                                                                                                                                                                                                                                                                                                                                                                                                                                                                                                                                                                                                                                                                                                                                                                                                                                                                                                                                                                                                                                                                                                                                                                                                                                                                                                                                                                                                                                                                                                                                                                                                                                                                                                                                                                                                                                                                                                                                                                                                                                                                                                                                                                                                                                                                                                                                                                                                                                                                                                                                                                                                                                                                                                                                                                                                                                                                                                                                                                                                                                                                                                                                                                                                                                                                                                                                                                                                                                                                                                                                                                                                                                                                                                                                                                                                                                                                                                                                                                                                                                                                                                                                                                                                                                                                                                                                                                                                                                                                                                                                                                                                                                                                                                                                                                                                                                                                                                                                                                                                                                                                                                                                                                                                                                                                                                                                                                                                                                                                                                                                                                                                                                                                                                                                                                                                                                                                                                                                                                                                                                                                                                             import numpy as np # para usar funções que lidam com vetore\n",
        "import matplotlib.pyplot as plt # para desenho\n",
        "from IPython.display import (Audio, display, clear_output) # widget com os botões de play, volume e download\n",
        "%matplotlib inline"
      ]
    },
    {
      "cell_type": "markdown",
      "metadata": {
        "id": "WNghVNMwRKav"
      },
      "source": [
        "Definição da função $x(n)=\\sin(2\\pi {n \\over N})$"
      ]
    },
    {
      "cell_type": "code",
      "execution_count": null,
      "metadata": {
        "id": "PZdPQrQmRKav"
      },
      "outputs": [],
      "source": [
        "def synth(freq, duration, fs):\n",
        "    t = np.linspace(0., duration, int(fs * duration))\n",
        "    x = np.sin(freq * 2. * np.pi * t)\n",
        "    display(Audio(x, rate=fs, autoplay=True)) # para mostrar o widget\n",
        "    return x"
      ]
    },
    {
      "cell_type": "markdown",
      "metadata": {
        "id": "IW071xVcRKaw"
      },
      "source": [
        "Chamada da função"
      ]
    },
    {
      "cell_type": "code",
      "execution_count": null,
      "metadata": {
        "podoc": {
          "output_text": "Sound widget"
        },
        "id": "kKZ1VlICRKax",
        "outputId": "309979c0-12ec-4fbc-9b20-2d0b11154b9a",
        "colab": {
          "base_uri": "https://localhost:8080/",
          "height": 75
        }
      },
      "outputs": [
        {
          "output_type": "display_data",
          "data": {
            "text/plain": [
              "<IPython.lib.display.Audio object>"
            ],
            "text/html": [
              "\n",
              "                <audio controls=\"controls\" autoplay=\"autoplay\">\n",
              "                    <source src=\"data:audio/wav;base64,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\" type=\"audio/wav\" />\n",
              "                    Your browser does not support the audio element.\n",
              "                </audio>\n",
              "              "
            ]
          },
          "metadata": {}
        }
      ],
      "source": [
        "s=synth(330, .2, 8000)"
      ]
    },
    {
      "cell_type": "markdown",
      "metadata": {
        "id": "ynXEh80CRKax"
      },
      "source": [
        "Mostrando o sinal na tela"
      ]
    },
    {
      "cell_type": "code",
      "execution_count": null,
      "metadata": {
        "id": "PZTtgSW5RKay"
      },
      "outputs": [],
      "source": [
        "plt.plot(s)"
      ]
    },
    {
      "cell_type": "markdown",
      "metadata": {
        "id": "RgxGo0ZtRKaz"
      },
      "source": [
        "Também é possível criar um gráfico com botões para controle de zoom usando `%matplotlib notebook`. Conferir https://medium.com/@1522933668924/using-matplotlib-in-jupyter-notebooks-comparing-methods-and-some-tips-python-c38e85b40ba1"
      ]
    },
    {
      "cell_type": "code",
      "execution_count": null,
      "metadata": {
        "id": "ch5RNuKERKa0"
      },
      "outputs": [],
      "source": [
        "%matplotlib notebook\n",
        "plt.plot(s)"
      ]
    },
    {
      "cell_type": "markdown",
      "metadata": {
        "id": "tUSKGJc_RKa0"
      },
      "source": [
        "A linguagem de _markup_ usada no Jupyter é o _Markdown_. Aqui tem um resumo:  https://www.ibm.com/support/knowledgecenter/SSQNUZ_3.5.0/wsj/analyze-data/markd-jupyter.html"
      ]
    },
    {
      "cell_type": "markdown",
      "metadata": {
        "id": "779RQXxzRKa1"
      },
      "source": [
        "## Ler e salvar arquivos de áudio"
      ]
    },
    {
      "cell_type": "markdown",
      "metadata": {
        "id": "oscIZDmSRKa1"
      },
      "source": [
        "Para carregar arquivos de áudio, recomendo `scipy.io.wavfile.read`. Existe um módulo chamado librosa, mas a leitura de arquivos é um pouco estranha, porque assume que os sinais tem taxa de amostragem de 22050 Hz."
      ]
    },
    {
      "cell_type": "code",
      "execution_count": null,
      "metadata": {
        "id": "IOtMo5b4RKa1"
      },
      "outputs": [],
      "source": [
        "# Use scipy.io.wavfile.read\n",
        "from scipy.io import wavfile\n",
        "fs, x = wavfile.read('teste-sweep-200Hz-2kHz.wav')\n",
        "print(fs)\n",
        "# Gravar para wav usando scipy.io.wavfile.write"
      ]
    },
    {
      "cell_type": "code",
      "execution_count": null,
      "metadata": {
        "scrolled": true,
        "id": "0eY-5O-aRKa2"
      },
      "outputs": [],
      "source": [
        "type(x)"
      ]
    },
    {
      "cell_type": "code",
      "execution_count": null,
      "metadata": {
        "scrolled": true,
        "id": "PADd3xytRKa2"
      },
      "outputs": [],
      "source": [
        "plt.plot(x)"
      ]
    },
    {
      "cell_type": "markdown",
      "metadata": {
        "id": "iWFJgVbZRKa2"
      },
      "source": [
        "# Exercícios\n",
        "1. Use a função synth definida neste arquivo para gerar um sinal senoidal. Grave o arquivo e abra no Ocenaudio para conferir.\n",
        "2. Desenhe um período desse sinal senoidal com cor verde. Escreva no eixo x \"amostras\" e no eixo y, \"amplitude\".\n",
        "3. Desenhe no mesmo gráfico o sinal invertido (multiplique por -1), com cor vermelha e tracejado.\n",
        "4. Refaça o desenho, mas agora ajuste o eixo x para mostrar o tempo e não em amostras."
      ]
    }
  ],
  "metadata": {
    "kernelspec": {
      "display_name": "Python 3",
      "language": "python",
      "name": "python3"
    },
    "language_info": {
      "codemirror_mode": {
        "name": "ipython",
        "version": 3
      },
      "file_extension": ".py",
      "mimetype": "text/x-python",
      "name": "python",
      "nbconvert_exporter": "python",
      "pygments_lexer": "ipython3",
      "version": "3.8.5"
    },
    "colab": {
      "name": "python-audio.ipynb",
      "provenance": [],
      "include_colab_link": true
    }
  },
  "nbformat": 4,
  "nbformat_minor": 0
}